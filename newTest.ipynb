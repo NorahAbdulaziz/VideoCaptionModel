{
  "nbformat": 4,
  "nbformat_minor": 0,
  "metadata": {
    "colab": {
      "name": "newTest.ipynb",
      "provenance": [],
      "authorship_tag": "ABX9TyNNDwmQ/aM/z/9IMKmfzqN8",
      "include_colab_link": true
    },
    "kernelspec": {
      "name": "python3",
      "display_name": "Python 3"
    },
    "language_info": {
      "name": "python"
    }
  },
  "cells": [
    {
      "cell_type": "markdown",
      "metadata": {
        "id": "view-in-github",
        "colab_type": "text"
      },
      "source": [
        "<a href=\"https://colab.research.google.com/github/NorahAbdulaziz/VideoCaptionModel/blob/main/newTest.ipynb\" target=\"_parent\"><img src=\"https://colab.research.google.com/assets/colab-badge.svg\" alt=\"Open In Colab\"/></a>"
      ]
    },
    {
      "cell_type": "code",
      "execution_count": null,
      "metadata": {
        "colab": {
          "base_uri": "https://localhost:8080/"
        },
        "id": "fvNzCwlIyWuY",
        "outputId": "47f577e1-ce24-4511-d337-b28a2365aada"
      },
      "outputs": [
        {
          "output_type": "stream",
          "name": "stdout",
          "text": [
            "Mounted at /content/drive\n"
          ]
        }
      ],
      "source": [
        "from google.colab import drive\n",
        "\n",
        "drive.mount('/content/drive')"
      ]
    },
    {
      "cell_type": "code",
      "source": [
        "import numpy as np\n",
        "from PIL import Image\n",
        "import PIL \n",
        "import os\n",
        "import math\n",
        "from skimage.metrics import structural_similarity as compare_ssim\n",
        "import argparse\n",
        "import imutils\n",
        "import matplotlib.pyplot as plt\n",
        "import cv2\n",
        "from google.colab.patches import cv2_imshow\n",
        "import shutil\n",
        "import tqdm\n",
        "from tensorflow.keras.applications.vgg16 import VGG16\n",
        "from tensorflow.keras.models import Model\n",
        "import config\n"
      ],
      "metadata": {
        "id": "lv3YUiFDtbrU"
      },
      "execution_count": null,
      "outputs": []
    },
    {
      "cell_type": "code",
      "source": [
        "#copied cell\n",
        "#https://morioh.com/p/0cbc8ac635b9\n",
        "\n",
        "\n",
        "def getFrame(sec):\n",
        "    vidcap2.set(cv2.CAP_PROP_POS_MSEC, sec*1000)\n",
        "    hasFrames,image = vidcap2.read()\n",
        "    if hasFrames:\n",
        "      cv2.imwrite(pathframes+\"/image_%d.png\"  % count , image)\n",
        "      #cv2.imwrite(\"/content/drive/MyDrive/Thesis/Thesis_Dataset/IMages/image_%d.png\", count, image)\n",
        "    return hasFrames\n",
        "\n",
        "#vidcap = cv2.VideoCapture('/content/drive/MyDrive/Thesis/Thesis_Dataset/VideosSpliting/Test/')\n",
        "listarra=[]\n",
        "for g in os.listdir('/content/drive/MyDrive/testing_folder/videos'):\n",
        "  j=g.split(\".\")\n",
        "  listarra.append(j[0])\n",
        "print(listarra)\n",
        "for f in os.listdir('/content/drive/MyDrive/testing_folder/videos'):\n",
        "  foldername=f.split(\".\")\n",
        "  vidcap2 = cv2.VideoCapture('/content/drive/MyDrive/testing_folder/videos/'+f)\n",
        "  #print(vidcap2)\n",
        "  if foldername[0] in listarra:\n",
        "  #  print(\"dd\")\n",
        "  \n",
        "    #[\"sjh57ujp52M\", \"bAC0cZIQVOk\", \"_H0Mmr15_zA\", \"5ZWUiD2OL04\", \"_Vzpj0cXoSM\", \"Afp_1HegZOc\",\"9GIPE0aeVNI\", \"2NsbFst90QQ\", \"6c7WtnF5XWg\", \n",
        "                          #   \"W6DgS0s0qcI\", \"FfyOV00sXEY\", \"U_yVc8Dl048\", \"xx698BRyqG4\"] :\n",
        "    pathframes = \"/content/drive/MyDrive/testing_folder/timebased2/\"+foldername[0]\n",
        "\n",
        "    # print(pathframes)\n",
        "    os.mkdir(pathframes)\n",
        "      \n",
        "    sec = 0\n",
        "    frameRate = 1 #//it will capture image in each 2 second\n",
        "    count=1\n",
        "    success = getFrame(sec)\n",
        "    while success:\n",
        "        #  if count > 120:\n",
        "        #    break;\n",
        "         # else:\n",
        "            sec = sec + frameRate\n",
        "            sec = round(sec, 2)\n",
        "            print(sec)\n",
        "            success = getFrame(sec)\n",
        "            count = count + 1\n"
      ],
      "metadata": {
        "id": "o2spBKIT39gC"
      },
      "execution_count": null,
      "outputs": []
    },
    {
      "cell_type": "code",
      "source": [
        "#**framesapproved\n",
        "\n",
        "\n",
        "source =\"/content/drive/MyDrive/testing_folder/timebased2/\"\n",
        "#path=\"/content/drive/MyDrive/Thesis/Thesis_Dataset/SSIM_Based/\"\n",
        "dest=\"/content/drive/MyDrive/testing_folder/ExtractFrame_SSIM2/\"\n",
        "\n",
        "for folder in os.listdir(source):\n",
        "  #  namefile=folder\n",
        "    nn=source+folder+\"/\"\n",
        "    n2=dest+folder+\"/\"\n",
        "    os.makedirs(n2)\n",
        "    print(n2)\n",
        "    array_size=0\n",
        "    array_lengh=0\n",
        "    image_array = [] #original Images\n",
        "    count=0\n",
        "    cc=0\n",
        "    gray_array = [] #Gray Images\n",
        "\n",
        "    for myFile1 in os.listdir(nn):\n",
        "        array_size=array_size+1\n",
        "        imageA = cv2.imread(nn+myFile1)\n",
        "        image_array.append(imageA) \n",
        "        print(\"myFile1\", myFile1)\n",
        "\n",
        "        #print(\"4\",imageA)\n",
        "      #  cv2_imshow(imageA)\n",
        "\n",
        "    #array_lengh=math.ceil((array_size)/2)\n",
        "\n",
        "    #for myFile2 in os.listdir(nn):\n",
        "       # os.remove(nn+myFile2)\n",
        "\n",
        "    for img in image_array:\n",
        "        grayimg = cv2.cvtColor(img, cv2.COLOR_BGR2GRAY)\n",
        "      # new_im = Image.fromarray(grayimg)\n",
        "        gray_array.append(grayimg)\n",
        "        #cv2_imshow(grayimg)\n",
        "        print(\"11\")\n",
        "\n",
        "\n",
        "    for i in range(0, len(gray_array), 2):\n",
        "        j=i+1\n",
        "     \n",
        "       # print(i, j, count, cc)\n",
        "        if j==len(gray_array) :\n",
        "          cv2.imwrite(n2+\"Image_%d.png\" % count,image_array[i])\n",
        "          count=count+1\n",
        "          print(\"22\")\n",
        "\n",
        "\n",
        "        else:\n",
        "          (score, diff) = compare_ssim(gray_array[i], gray_array[j], full=True)\n",
        "          if score < 0.8 :\n",
        "            cv2.imwrite(n2+\"Image_%d.png\" % count ,image_array[i])\n",
        "            count=count+1\n",
        "            cv2.imwrite(n2+\"Image_%d.png\" % count, image_array[j])\n",
        "            count=count+1\n",
        "            #cv2_imshow(image_array[i])\n",
        "            print(\"33\")\n",
        "\n",
        "\n",
        "            \n",
        "          else:\n",
        "            #print(topath, gray_array)\n",
        "            cv2.imwrite(n2+\"Image_%d.png\" % count, image_array[i])\n",
        "            count=count+1\n",
        "            #cv2_imshow(image_array[i])\n",
        "            print(\"44\")"
      ],
      "metadata": {
        "id": "kXj4Qx1F-oSL"
      },
      "execution_count": null,
      "outputs": []
    },
    {
      "cell_type": "code",
      "source": [
        "\n",
        "\n",
        "d=\"/content/drive/MyDrive/testing_folder\"\n",
        "\n",
        "\n",
        "def video_to_frames(video):\n",
        "  video_id = video.split(\".\")[0]\n",
        "\n",
        "  image_list=[]\n",
        "  for i in os.listdir(\"/content/drive/MyDrive/testing_folder/ExtractFrame_SSIM2/\"+video_id):\n",
        "    image_list.append(i)\n",
        "    return image_list\n",
        "\n",
        "def load_image(name, video_path):\n",
        "  \n",
        "    img = cv2.imread(\"/content/drive/MyDrive/testing_folder/ExtractFrame_SSIM2/\"+video_path+\"/\"+name)\n",
        "    img = cv2.resize(img, (224, 224))\n",
        "    return img\n",
        "\n",
        "def extract_features(video, model):\n",
        "    \"\"\"\n",
        "    :param video: The video whose frames are to be extracted to convert into a numpy array\n",
        "    :param model: the pretrained vgg16 model\n",
        "    :return: numpy array of size 4096x80\n",
        "    \"\"\"\n",
        "    video_id = video.split(\".\")[0]\n",
        "    print(f'Processing video {video}')\n",
        "\n",
        "    image_list = video_to_frames(video)\n",
        "    samples = np.round(np.linspace(\n",
        "        0, len(image_list) - 1, 80))\n",
        "    image_list = [image_list[int(sample)] for sample in samples]\n",
        "    images = np.zeros((len(image_list), 224, 224, 3))\n",
        "    for i in range(len(image_list)):\n",
        "        img = load_image(image_list[i], video_id)\n",
        "        images[i] = img\n",
        "    images = np.array(images)\n",
        "    fc_feats = model.predict(images, batch_size=128)\n",
        "    img_feats = np.array(fc_feats)\n",
        "    # cleanup\n",
        "    #shutil.rmtree(os.path.join(config.test_path, 'temporary_images'))\n",
        "    return img_feats\n",
        "\n",
        "\n",
        "def extract_feats_pretrained_cnn():\n",
        "    \"\"\"\n",
        "    saves the numpy features from all the videos\n",
        "    \"\"\"\n",
        "    model = model_cnn_load()\n",
        "    print('Model loaded')\n",
        "\n",
        "    if not os.path.isdir(os.path.join(d, 'ExtractFeatures')):\n",
        "        os.mkdir(os.path.join(d, 'ExtractFeatures'))\n",
        "\n",
        "    video_list = os.listdir(os.path.join(d, 'videos'))\n",
        "    for video in video_list:\n",
        "\n",
        "        outfile = os.path.join(d, 'ExtractFeatures', video.split(\".\")[0] + '.npy')\n",
        "        img_feats = extract_features(video, model)\n",
        "        np.save(outfile, img_feats)\n",
        "\n",
        "\n",
        "if __name__ == \"__main__\":\n",
        "    extract_feats_pretrained_cnn()"
      ],
      "metadata": {
        "id": "7oTNYrbZZwmq"
      },
      "execution_count": null,
      "outputs": []
    },
    {
      "cell_type": "code",
      "source": [
        "def model_cnn_load():\n",
        "    model = VGG16(weights=\"imagenet\", include_top=True, input_shape=(224, 224, 3))\n",
        "    out = model.layers[-2].output\n",
        "    model_final = Model(inputs=model.input, outputs=out)\n",
        "    return model_final"
      ],
      "metadata": {
        "id": "adeTg6H-Zpau"
      },
      "execution_count": null,
      "outputs": []
    },
    {
      "cell_type": "code",
      "source": [
        "pip install config"
      ],
      "metadata": {
        "colab": {
          "base_uri": "https://localhost:8080/"
        },
        "id": "3MePULIuZhnu",
        "outputId": "9b4ff2e0-fa30-400d-987d-e120f08bbfa9"
      },
      "execution_count": null,
      "outputs": [
        {
          "output_type": "stream",
          "name": "stdout",
          "text": [
            "Looking in indexes: https://pypi.org/simple, https://us-python.pkg.dev/colab-wheels/public/simple/\n",
            "Collecting config\n",
            "  Downloading config-0.5.1-py2.py3-none-any.whl (20 kB)\n",
            "Installing collected packages: config\n",
            "Successfully installed config-0.5.1\n"
          ]
        }
      ]
    },
    {
      "cell_type": "code",
      "source": [
        ""
      ],
      "metadata": {
        "id": "eIQjyGhOpikp"
      },
      "execution_count": null,
      "outputs": []
    }
  ]
}